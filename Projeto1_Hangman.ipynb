{
  "nbformat": 4,
  "nbformat_minor": 0,
  "metadata": {
    "colab": {
      "provenance": [],
      "authorship_tag": "ABX9TyNnVZHH/NGXzTxpygCtt5Fb",
      "include_colab_link": true
    },
    "kernelspec": {
      "name": "python3",
      "display_name": "Python 3"
    },
    "language_info": {
      "name": "python"
    }
  },
  "cells": [
    {
      "cell_type": "markdown",
      "metadata": {
        "id": "view-in-github",
        "colab_type": "text"
      },
      "source": [
        "<a href=\"https://colab.research.google.com/github/gveloso7/Exercicios-DSA/blob/main/Projeto1_Hangman.ipynb\" target=\"_parent\"><img src=\"https://colab.research.google.com/assets/colab-badge.svg\" alt=\"Open In Colab\"/></a>"
      ]
    },
    {
      "cell_type": "code",
      "execution_count": 1,
      "metadata": {
        "id": "rwHi1ILsetEf"
      },
      "outputs": [],
      "source": [
        "import random\n",
        "from os import system, name"
      ]
    },
    {
      "cell_type": "code",
      "source": [
        "#Limpar a tela a cada execução\n",
        "\n",
        "def limpa_tela():\n",
        "  if name =='nt':\n",
        "    _ = system('cls')\n",
        "\n",
        "def game():\n",
        "\n",
        "    limpa_tela()\n",
        "    print('\\n Bem vindo ao jogo!')\n",
        "    print('\\n Adivinhe a palavra abaixo:\\n')\n",
        "\n",
        "    #Criação da lista de palavras para o game\n",
        "    palavras = (['abacaxi','uva','banana','manga','goiaba','acerola','pitaya','acerola'])\n",
        "\n",
        "    #Palavra sorteada para o jogo\n",
        "    escolha = random.choice(palavras)\n",
        "\n",
        "    #Tracinhos que aparecerão para o usuário digitar de acordo com a palvra sorteada\n",
        "    letras_descobertas = ['_' for letra in escolha]\n",
        "\n",
        "    #Número de tentativas\n",
        "    chances = 7\n",
        "\n",
        "    #Lista vazia para armazenar as letras erradas\n",
        "    letras_erradas = []\n",
        "\n",
        "    #Enquanto o número de chances for maior que 0, repetir a palavra\n",
        "\n",
        "    while chances > 0:\n",
        "\n",
        "        print(' '.join(letras_descobertas))\n",
        "        print('\\nChances restantes:', chances)\n",
        "        print('\\nLetras erradas:',' '.join(letras_erradas))\n",
        "\n",
        "            #Tentativa\n",
        "            #Se a letra estiver correta, inseri-la no indice letras descobertas\n",
        "            #Se a letra estiver errada, reduzir o número de tentativas\n",
        "\n",
        "        tentativa = input('\\nDigite uma letra: ').lower()\n",
        "        if tentativa in escolha:\n",
        "          index =0\n",
        "          for letra in escolha:\n",
        "            if tentativa == letra:\n",
        "              letras_descobertas[index] = letra\n",
        "            index += 1\n",
        "        else:\n",
        "          chances-= 1\n",
        "          letras_erradas.append(tentativa)\n",
        "\n",
        "        if '_' not in letras_descobertas:\n",
        "          print('\\nVocê venceu, a palavra era: ', escolha)\n",
        "          break\n",
        "\n",
        "    if '_' in letras_descobertas:\n",
        "      print('\\nVocê perdeu, a palavra certa era:', escolha)\n",
        "\n",
        "if __name__ == '__main__':\n",
        "  game()\n",
        "\n"
      ],
      "metadata": {
        "id": "-eZSRslxyDQQ"
      },
      "execution_count": null,
      "outputs": []
    }
  ]
}