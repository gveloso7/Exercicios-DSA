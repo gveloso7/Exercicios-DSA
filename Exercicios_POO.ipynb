{
  "nbformat": 4,
  "nbformat_minor": 0,
  "metadata": {
    "colab": {
      "provenance": [],
      "authorship_tag": "ABX9TyMNs2Vuyo2epO5exY678fEK",
      "include_colab_link": true
    },
    "kernelspec": {
      "name": "python3",
      "display_name": "Python 3"
    },
    "language_info": {
      "name": "python"
    }
  },
  "cells": [
    {
      "cell_type": "markdown",
      "metadata": {
        "id": "view-in-github",
        "colab_type": "text"
      },
      "source": [
        "<a href=\"https://colab.research.google.com/github/gveloso7/Exercicios-DSA/blob/main/Exercicios_POO.ipynb\" target=\"_parent\"><img src=\"https://colab.research.google.com/assets/colab-badge.svg\" alt=\"Open In Colab\"/></a>"
      ]
    },
    {
      "cell_type": "code",
      "execution_count": 38,
      "metadata": {
        "id": "67WTZ8WcHqg7",
        "colab": {
          "base_uri": "https://localhost:8080/"
        },
        "outputId": "46efcd4b-5f55-430f-d7f6-2c81a9fdbd7c"
      },
      "outputs": [
        {
          "output_type": "stream",
          "name": "stdout",
          "text": [
            "12 44\n",
            "24 88\n"
          ]
        }
      ],
      "source": [
        "# Exercício 1 - Crie um objeto a partir da classe abaixo, chamado roc1,\n",
        "# passando 2 parâmetros e depois faça uma chamada aos atributos e métodos\n",
        "from math import sqrt\n",
        "\n",
        "class Rocket():\n",
        "\n",
        "    def __init__(self, x=0, y=0):\n",
        "\n",
        "        self.x = x\n",
        "        self.y = y\n",
        "\n",
        "    def move_rocket(self, x_increment=0, y_increment=1):\n",
        "        self.x += x_increment\n",
        "        self.y += y_increment\n",
        "\n",
        "    def print_rocket(self):\n",
        "        print(self.x, self.y)\n",
        "\n",
        "\n",
        "#Chamando os atributos\n",
        "roc1 = Rocket(12,44)\n",
        "roc1.x\n",
        "\n",
        "#chamando os métodos\n",
        "roc1.print_rocket()\n",
        "roc1.move_rocket(12,44)\n",
        "roc1.print_rocket()"
      ]
    },
    {
      "cell_type": "code",
      "source": [
        "# Exercício 2 - Crie uma classe chamada Pessoa() com os atributos: nome, cidade, telefone e e-mail. Use pelo menos 2\n",
        "# métodos especiais na sua classe. Crie um objeto da sua classe e faça uma chamada a pelo menos um dos seus métodos\n",
        "# especiais.\n",
        "\n",
        "class Pessoa():\n",
        "\n",
        "    def __init__(self, nome, cidade, telefone, email):\n",
        "      self.nome = nome\n",
        "      self.cidade = cidade\n",
        "      self.telefone = telefone\n",
        "      self.email = email\n",
        "\n",
        "    def __str__(self):\n",
        "        return f\" O usuário {self.nome} mora na cidade {self.cidade} \"\n",
        "\n",
        "#Inserindo atributos\n",
        "cadastro = Pessoa('Geovana','São Paulo','11989034011','gsfr@gmail.com')\n",
        "\n",
        "print(cadastro)"
      ],
      "metadata": {
        "colab": {
          "base_uri": "https://localhost:8080/"
        },
        "id": "S5-YmhiatGat",
        "outputId": "6a459890-b0c7-49a0-cb43-9d9776f1aa02"
      },
      "execution_count": 28,
      "outputs": [
        {
          "output_type": "stream",
          "name": "stdout",
          "text": [
            " O usuário Geovana mora na cidade São Paulo \n"
          ]
        }
      ]
    },
    {
      "cell_type": "code",
      "source": [
        "# Exercício 3 - Crie a classe Smartphone com 2 atributos, tamanho e interface e crie a classe MP3Player com os\n",
        "# atributos capacidade. A classe MP3player deve herdar os atributos da classe Smartphone.\n",
        "\n",
        "class Smartphone():\n",
        "\n",
        "    def __init__(self, tamanho, interface):\n",
        "      self.tamanho = tamanho\n",
        "      self.interface = interface\n",
        "\n",
        "class MP3Player(Smartphone):\n",
        "    def __init__(self,capacidade, tamanho = 'Pequeno', interface = 'Led'):\n",
        "      self.capacidade = capacidade\n",
        "      Smartphone.__init__(self, tamanho, interface)\n",
        "\n",
        "    def print_mp3player(self):\n",
        "      print(\"Objeto criado: %s %s %s\" %(self.tamanho, self.capacidade, self.interface))\n",
        "\n",
        "\n",
        "objeto1 = MP3Player('64 GB')\n",
        "objeto1.print_mp3player()\n",
        "\n"
      ],
      "metadata": {
        "colab": {
          "base_uri": "https://localhost:8080/"
        },
        "id": "ie68hfLJtKzA",
        "outputId": "cba0f5c4-7ef2-471f-dfb3-17cea773b12c"
      },
      "execution_count": 37,
      "outputs": [
        {
          "output_type": "stream",
          "name": "stdout",
          "text": [
            "Objeto criado: Pequeno 64 GB Led\n"
          ]
        }
      ]
    }
  ]
}